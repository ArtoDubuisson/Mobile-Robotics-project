{
 "cells": [
  {
   "cell_type": "code",
   "execution_count": 4,
   "id": "a7e37085",
   "metadata": {},
   "outputs": [
    {
     "name": "stderr",
     "output_type": "stream",
     "text": [
      "2023-11-18 14:54:44.773 python[85429:1269406] IMKClient Stall detected, *please Report* your user scenario attaching a spindump (or sysdiagnose) that captures the problem - (imkxpc_bundleIdentifierWithReply:) block performed very slowly (2.11 secs).\n"
     ]
    },
    {
     "ename": "KeyboardInterrupt",
     "evalue": "",
     "output_type": "error",
     "traceback": [
      "\u001b[0;31m---------------------------------------------------------------------------\u001b[0m",
      "\u001b[0;31mKeyboardInterrupt\u001b[0m                         Traceback (most recent call last)",
      "Cell \u001b[0;32mIn[4], line 43\u001b[0m\n\u001b[1;32m     40\u001b[0m         cv2\u001b[38;5;241m.\u001b[39mdestroyAllWindows()\n\u001b[1;32m     42\u001b[0m \u001b[38;5;66;03m# Appeler la fonction principale\u001b[39;00m\n\u001b[0;32m---> 43\u001b[0m capture_and_display()\n",
      "Cell \u001b[0;32mIn[4], line 31\u001b[0m, in \u001b[0;36mcapture_and_display\u001b[0;34m()\u001b[0m\n\u001b[1;32m     28\u001b[0m cv2\u001b[38;5;241m.\u001b[39mimwrite(nom_fichier, frame)\n\u001b[1;32m     30\u001b[0m \u001b[38;5;66;03m# Attendre 10 secondes (10000 millisecondes)\u001b[39;00m\n\u001b[0;32m---> 31\u001b[0m time\u001b[38;5;241m.\u001b[39msleep(\u001b[38;5;241m2\u001b[39m)\n\u001b[1;32m     33\u001b[0m \u001b[38;5;66;03m# Quitter si la touche 'q' est enfoncée\u001b[39;00m\n\u001b[1;32m     34\u001b[0m \u001b[38;5;28;01mif\u001b[39;00m cv2\u001b[38;5;241m.\u001b[39mwaitKey(\u001b[38;5;241m1\u001b[39m) \u001b[38;5;241m&\u001b[39m \u001b[38;5;241m0xFF\u001b[39m \u001b[38;5;241m==\u001b[39m \u001b[38;5;28mord\u001b[39m(\u001b[38;5;124m'\u001b[39m\u001b[38;5;124mq\u001b[39m\u001b[38;5;124m'\u001b[39m):\n",
      "\u001b[0;31mKeyboardInterrupt\u001b[0m: "
     ]
    }
   ],
   "source": [
    "import cv2\n",
    "import time\n",
    "\n",
    "# Fonction pour prendre une photo et l'afficher\n",
    "def capture_and_display():\n",
    "    # Ouvrir la webcam (index 0 par défaut)\n",
    "    cap = cv2.VideoCapture(0)\n",
    "\n",
    "    # Vérifier si la webcam est ouverte correctement\n",
    "    if not cap.isOpened():\n",
    "        print(\"Erreur: Impossible d'ouvrir la webcam.\")\n",
    "        return\n",
    "\n",
    "    try:\n",
    "        while True:\n",
    "            # Capturer une image depuis la webcam\n",
    "            ret, frame = cap.read()\n",
    "\n",
    "            if not ret:\n",
    "                print(\"Erreur: Impossible de capturer l'image.\")\n",
    "                break\n",
    "\n",
    "            # Afficher l'image\n",
    "            cv2.imshow('Webcam', frame)\n",
    "\n",
    "            # Enregistrer l'image dans un fichier (ajoutez le chemin souhaité)\n",
    "            nom_fichier = f\"photo_{int(time.time())}.jpg\"\n",
    "            cv2.imwrite(nom_fichier, frame)\n",
    "\n",
    "            # Attendre 10 secondes (10000 millisecondes)\n",
    "            time.sleep(2)\n",
    "\n",
    "            # Quitter si la touche 'q' est enfoncée\n",
    "            if cv2.waitKey(1) & 0xFF == ord('q'):\n",
    "                break\n",
    "\n",
    "    finally:\n",
    "        # Libérer la webcam et fermer la fenêtre\n",
    "        cap.release()\n",
    "        cv2.destroyAllWindows()\n",
    "\n",
    "# Appeler la fonction principale\n",
    "capture_and_display()\n"
   ]
  },
  {
   "cell_type": "code",
   "execution_count": null,
   "id": "c6caa3cc",
   "metadata": {},
   "outputs": [],
   "source": []
  }
 ],
 "metadata": {
  "kernelspec": {
   "display_name": "Python 3 (ipykernel)",
   "language": "python",
   "name": "python3"
  },
  "language_info": {
   "codemirror_mode": {
    "name": "ipython",
    "version": 3
   },
   "file_extension": ".py",
   "mimetype": "text/x-python",
   "name": "python",
   "nbconvert_exporter": "python",
   "pygments_lexer": "ipython3",
   "version": "3.11.4"
  }
 },
 "nbformat": 4,
 "nbformat_minor": 5
}

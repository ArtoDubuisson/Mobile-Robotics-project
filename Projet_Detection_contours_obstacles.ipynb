{
 "cells": [
  {
   "cell_type": "code",
   "execution_count": 39,
   "id": "0ec7bb42",
   "metadata": {},
   "outputs": [],
   "source": [
    "'''\n",
    "File : Notebook Vision\n",
    "Author : Benoît Gallois\n",
    "Date : 19 nov 2023\n",
    "Definition of the function that can detect the obstacles, the robot and the goal zone.\n",
    "'''\n",
    "\n",
    "import cv2\n",
    "import numpy as np\n",
    "\n",
    "\n",
    "IMAGE_PATH = \"map2.jpeg\"\n",
    "\n",
    "# Definition of the colours thresholds\n",
    "LOWER_RED = np.array([0, 100, 100])\n",
    "UPPER_RED = np.array([10, 255, 255])\n",
    "\n",
    "LOWER_BLUE = np.array([100, 100, 100])\n",
    "UPPER_BLUE = np.array([140, 255, 255])\n",
    "\n",
    "LOWER_GREEN = np.array([40, 40, 40])\n",
    "UPPER_GREEN = np.array([80, 255, 255])\n",
    "\n",
    "LOWER_BLACK = np.array([0, 0, 0])\n",
    "UPPER_BLACK = np.array([179, 255, 30])\n",
    "\n",
    "# Definition of the size of contours considered as noise\n",
    "NOISY_CONTOUR_LENGHT = 2000\n",
    "\n",
    "\n",
    "\n",
    "def detect_area(image_path, lower_colour, upper_colour):\n",
    "\n",
    "    '''\n",
    "    @brief   Detects areas corresponding to a color and returns the coordinates of the vertices of these areas.\n",
    " \n",
    "    @param   image_path   -> \"folder_of_image/name_image.jpeg\"\n",
    "             lower_colour -> LOWER_RED, LOWER_BLACK, LOWER_BLUE, LOWER_GREEN\n",
    "             upper_colour -> UPPER_RED, UPPER_BLACK, UPPER_BLUE, UPPER_GREEN     \n",
    "    '''\n",
    "    \n",
    "    image = cv2.imread(image_path)\n",
    "    height, width, _ = image.shape      # Give the size of the image\n",
    "\n",
    "    # Converts the image in the HSV space\n",
    "    hsv = cv2.cvtColor(image, cv2.COLOR_BGR2HSV)\n",
    "\n",
    "    # Filter the image to retain only pixels of the desired color\n",
    "    mask = cv2.inRange(hsv, lower_colour, upper_colour)\n",
    "\n",
    "    # Blur masks to reduce noise\n",
    "    blurred_mask = cv2.GaussianBlur(mask, (5, 5), 0)\n",
    "\n",
    "    # Find contours in the filtered mask\n",
    "    contours, _ = cv2.findContours(blurred_mask, cv2.RETR_EXTERNAL, cv2.CHAIN_APPROX_SIMPLE)\n",
    "\n",
    "    # List to store coordinates of detected zones\n",
    "    coords = []\n",
    "\n",
    "    # Browse all contours found\n",
    "    for contour in contours:\n",
    "        \n",
    "        # Ignore small contours that could be noise\n",
    "        if cv2.contourArea(contour) > NOISY_CONTOUR_LENGHT:\n",
    "            \n",
    "            # Get the coordinates of the rectangle enclosing the area\n",
    "            x, y, w, h = cv2.boundingRect(contour)\n",
    "\n",
    "            # Add the coordinates of the zone's vertices with a change of reference point (bottom left corner)\n",
    "            coords.append([(x, height - y), (x + w, height - y), (x + w, height - y - h), (x, height - y - h)])\n",
    "\n",
    "    return coords"
   ]
  },
  {
   "cell_type": "code",
   "execution_count": 40,
   "id": "610c3748",
   "metadata": {},
   "outputs": [],
   "source": [
    "# Execute the function to find the contours of each area\n",
    "obstacles = detect_area(IMAGE_PATH, LOWER_BLACK, UPPER_BLACK)\n",
    "goal_area = detect_area(IMAGE_PATH, LOWER_RED, UPPER_RED)\n",
    "front_robot_area = detect_area(IMAGE_PATH, LOWER_BLUE, UPPER_BLUE)\n",
    "back_robot_area = detect_area(IMAGE_PATH, LOWER_GREEN, UPPER_GREEN)"
   ]
  },
  {
   "cell_type": "code",
   "execution_count": 41,
   "id": "943c4d84",
   "metadata": {},
   "outputs": [
    {
     "name": "stdout",
     "output_type": "stream",
     "text": [
      "Coordonnées obstacles noirs : [[(3467, 1400), (3783, 1400), (3783, 392), (3467, 392)], [(905, 2773), (1204, 2773), (1204, 1799), (905, 1799)]]\n",
      "Coordonnées zone d'arrivée : [[(1919, 2804), (3017, 2804), (3017, 1705), (1919, 1705)]]\n",
      "Coordonnées zone bleue : [[(841, 1565), (1495, 1565), (1495, 241), (841, 241)]]\n",
      "Coordonnées zone verte : [[(183, 1546), (857, 1546), (857, 228), (183, 228)]]\n"
     ]
    }
   ],
   "source": [
    "print(f\"Coordonnées obstacles noirs :\", obstacles)\n",
    "\n",
    "print(\"Coordonnées zone d'arrivée :\", goal_area)\n",
    "\n",
    "print(\"Coordonnées zone bleue :\", front_robot_area)\n",
    "\n",
    "print(\"Coordonnées zone verte :\", back_robot_area)"
   ]
  },
  {
   "cell_type": "code",
   "execution_count": null,
   "id": "487773d8",
   "metadata": {},
   "outputs": [],
   "source": []
  }
 ],
 "metadata": {
  "kernelspec": {
   "display_name": "Python 3 (ipykernel)",
   "language": "python",
   "name": "python3"
  },
  "language_info": {
   "codemirror_mode": {
    "name": "ipython",
    "version": 3
   },
   "file_extension": ".py",
   "mimetype": "text/x-python",
   "name": "python",
   "nbconvert_exporter": "python",
   "pygments_lexer": "ipython3",
   "version": "3.11.4"
  }
 },
 "nbformat": 4,
 "nbformat_minor": 5
}

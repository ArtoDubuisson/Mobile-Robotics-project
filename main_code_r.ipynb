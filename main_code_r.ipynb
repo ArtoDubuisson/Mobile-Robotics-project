{
 "cells": [
  {
   "cell_type": "markdown",
   "metadata": {},
   "source": [
    "Thymio mini project"
   ]
  },
  {
   "cell_type": "code",
   "execution_count": 4,
   "metadata": {},
   "outputs": [
    {
     "name": "stdout",
     "output_type": "stream",
     "text": [
      "Requirement already satisfied: tdmclient in c:\\users\\rapha\\appdata\\local\\programs\\python\\python311\\lib\\site-packages (0.1.21)\n",
      "Requirement already satisfied: websockets in c:\\users\\rapha\\appdata\\local\\programs\\python\\python311\\lib\\site-packages (from tdmclient) (11.0.3)\n",
      "Requirement already satisfied: zeroconf in c:\\users\\rapha\\appdata\\local\\programs\\python\\python311\\lib\\site-packages (from tdmclient) (0.112.0)\n",
      "Requirement already satisfied: ifaddr>=0.1.7 in c:\\users\\rapha\\appdata\\local\\programs\\python\\python311\\lib\\site-packages (from zeroconf->tdmclient) (0.2.0)\n"
     ]
    }
   ],
   "source": [
    "!pip install --upgrade tdmclient"
   ]
  },
  {
   "cell_type": "code",
   "execution_count": 5,
   "metadata": {},
   "outputs": [],
   "source": [
    "# import libraries\n",
    "import time\n",
    "from tdmclient import ClientAsync\n",
    "\n",
    "# import project files\n",
    "import constants as cst\n",
    "import extended_Kalman_filter as eKf"
   ]
  },
  {
   "cell_type": "code",
   "execution_count": 6,
   "metadata": {},
   "outputs": [
    {
     "data": {
      "text/plain": [
       "Node df054775-a7a5-454e-9ad3-7896a54bbcc8"
      ]
     },
     "execution_count": 6,
     "metadata": {},
     "output_type": "execute_result"
    }
   ],
   "source": [
    "from tdmclient import ClientAsync\n",
    "client = ClientAsync()\n",
    "node = await client.wait_for_node()\n",
    "await node.lock()"
   ]
  },
  {
   "cell_type": "code",
   "execution_count": 7,
   "metadata": {},
   "outputs": [],
   "source": [
    "# Set the motor speeds\n",
    "async def stop_robot():\n",
    "    await node.set_variables({\n",
    "            \"motor.left.target\": [0],\n",
    "            \"motor.right.target\": [0],\n",
    "        })\n",
    "\n",
    "async def move_robot(left_speed, right_speed):\n",
    "    await node.set_variables({\n",
    "            \"motor.left.target\": [left_speed],\n",
    "            \"motor.right.target\": [right_speed],\n",
    "        })"
   ]
  },
  {
   "cell_type": "code",
   "execution_count": 9,
   "metadata": {},
   "outputs": [
    {
     "data": {
      "text/plain": [
       "\"       \\nx = await get_sensor_values('prox.ground.reflected')\\nprint(x[0], x[1])\\ny = await get_sensor_values('prox.horizontal')\\nprint(y)\\n\""
      ]
     },
     "execution_count": 9,
     "metadata": {},
     "output_type": "execute_result"
    }
   ],
   "source": [
    "# Set the sensor values\n",
    "async def get_sensor_values(sensor_id):\n",
    "    \"\"\"\n",
    "    Get the sensor value sensor_id\n",
    "    \"\"\"\n",
    "    await node.wait_for_variables({str(sensor_id)})\n",
    "    values = list(node[sensor_id])\n",
    "    return values\n",
    "'''       \n",
    "x = await get_sensor_values('prox.ground.reflected')\n",
    "print(x[0], x[1])\n",
    "y = await get_sensor_values('prox.horizontal')\n",
    "print(y)\n",
    "'''"
   ]
  },
  {
   "cell_type": "code",
   "execution_count": 11,
   "metadata": {},
   "outputs": [
    {
     "name": "stdout",
     "output_type": "stream",
     "text": [
      "[0, 0, 2965, 0, 0, 0, 0]\n"
     ]
    },
    {
     "name": "stderr",
     "output_type": "stream",
     "text": [
      "Exception in thread Thread-11:\n",
      "Traceback (most recent call last):\n",
      "  File \"c:\\Users\\rapha\\AppData\\Local\\Programs\\Python\\Python311\\Lib\\threading.py\", line 1038, in _bootstrap_inner\n",
      "    self.run()\n",
      "  File \"c:\\Users\\rapha\\AppData\\Local\\Programs\\Python\\Python311\\Lib\\site-packages\\tdmclient\\tcp.py\", line 73, in run\n",
      "    packet = self.read_packet()\n",
      "             ^^^^^^^^^^^^^^^^^^\n",
      "  File \"c:\\Users\\rapha\\AppData\\Local\\Programs\\Python\\Python311\\Lib\\site-packages\\tdmclient\\tcp.py\", line 66, in read_packet\n",
      "    raise error\n",
      "  File \"c:\\Users\\rapha\\AppData\\Local\\Programs\\Python\\Python311\\Lib\\site-packages\\tdmclient\\tcp.py\", line 59, in read_packet\n",
      "    packet_len = self.read_uint32()\n",
      "                 ^^^^^^^^^^^^^^^^^^\n",
      "  File \"c:\\Users\\rapha\\AppData\\Local\\Programs\\Python\\Python311\\Lib\\site-packages\\tdmclient\\tcp.py\", line 46, in read_uint32\n",
      "    b = self.io.read(4)\n",
      "        ^^^^^^^^^^^^^^^\n",
      "  File \"c:\\Users\\rapha\\AppData\\Local\\Programs\\Python\\Python311\\Lib\\site-packages\\tdmclient\\tcp.py\", line 99, in read\n",
      "    return self.socket.recv(n)\n",
      "           ^^^^^^^^^^^^^^^^^^^\n",
      "ConnectionResetError: [WinError 10054] Une connexion existante a dû être fermée par l’hôte distant\n"
     ]
    }
   ],
   "source": [
    "# test thymio\n",
    "await move_robot(50, 50)\n",
    "y = await get_sensor_values('prox.horizontal')\n",
    "print(y)\n",
    "await client.sleep(2)\n",
    "await stop_robot()"
   ]
  },
  {
   "cell_type": "code",
   "execution_count": null,
   "metadata": {},
   "outputs": [],
   "source": []
  }
 ],
 "metadata": {
  "hide_input": false,
  "kernelspec": {
   "display_name": "Python 3",
   "language": "python",
   "name": "python3"
  },
  "language_info": {
   "codemirror_mode": {
    "name": "ipython",
    "version": 3
   },
   "file_extension": ".py",
   "mimetype": "text/x-python",
   "name": "python",
   "nbconvert_exporter": "python",
   "pygments_lexer": "ipython3",
   "version": "3.11.5"
  },
  "toc": {
   "base_numbering": 1,
   "nav_menu": {},
   "number_sections": true,
   "sideBar": true,
   "skip_h1_title": false,
   "title_cell": "Table of Contents",
   "title_sidebar": "Contents",
   "toc_cell": true,
   "toc_position": {
    "height": "calc(100% - 180px)",
    "left": "10px",
    "top": "150px",
    "width": "165px"
   },
   "toc_section_display": true,
   "toc_window_display": false
  }
 },
 "nbformat": 4,
 "nbformat_minor": 4
}
